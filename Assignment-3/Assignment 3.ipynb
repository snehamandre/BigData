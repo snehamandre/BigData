{
 "cells": [
  {
   "cell_type": "markdown",
   "metadata": {},
   "source": [
    "Problem 1. \n",
    "The dataset GPA-GRE contains  16 years of GPA, Verbal and Quantitative GRE \n",
    "scores for graduate students. "
   ]
  },
  {
   "cell_type": "code",
   "execution_count": 1,
   "metadata": {},
   "outputs": [],
   "source": [
    "# File Paths\n",
    "gpa_gre = \"gpa-gre.csv\"\n",
    "dwell_time = \"data/multiple-sites.tsv\""
   ]
  },
  {
   "cell_type": "code",
   "execution_count": 2,
   "metadata": {},
   "outputs": [],
   "source": [
    "import pandas as pd\n",
    "import numpy as np \n",
    "from matplotlib import pyplot as plt\n",
    "import scipy.stats"
   ]
  },
  {
   "cell_type": "code",
   "execution_count": 3,
   "metadata": {},
   "outputs": [],
   "source": [
    "try:\n",
    "    gpa_gre = pd.read_csv(gpa_gre, error_bad_lines = False, warn_bad_lines=False)\n",
    "except Exception as e:\n",
    "    print(\"Error in File : \"+ gpa_gre)\n",
    "    print(e)\n",
    "    \n",
    "gpa_gre.dropna(subset=['GPA','Verbal', 'Quant'], inplace = True)\n",
    "gpa_gre['Combined_Gre'] = gpa_gre.apply(lambda row: row['Verbal'] + row['Quant'], axis=1)\n"
   ]
  },
  {
   "cell_type": "markdown",
   "metadata": {},
   "source": [
    "a. Use linear regression with the combined GRE score (Verbal + Quantitive) as the independent variable \n",
    "and the GPA as the dependent variable to create a model that predicts a students GPA given their combined GRE score. \n"
   ]
  },
  {
   "cell_type": "code",
   "execution_count": 4,
   "metadata": {},
   "outputs": [
    {
     "data": {
      "image/png": "[encoded data removed]",
      "text/plain": [
       "<Figure size 432x288 with 1 Axes>"
      ]
     },
     "metadata": {
      "needs_background": "light"
     },
     "output_type": "display_data"
    }
   ],
   "source": [
    "import matplotlib.pyplot as plt\n",
    "import numpy as np\n",
    "from sklearn.linear_model import LinearRegression \n",
    "from sklearn.metrics import mean_squared_error, r2_score\n",
    "\n",
    "X = gpa_gre[['Combined_Gre']]\n",
    "y = gpa_gre['GPA']\n",
    "\n",
    "model_2 = LinearRegression(fit_intercept=True)\n",
    "\n",
    "model_2.fit(X, y)\n",
    "\n",
    "y_pred = model_2.predict(X)\n",
    "\n",
    "# Plot outputs\n",
    "plt.scatter(X, y,  color='black')\n",
    "plt.plot(X, y_pred, color='blue', linewidth=3)\n",
    "\n",
    "plt.show()"
   ]
  },
  {
   "cell_type": "code",
   "execution_count": 5,
   "metadata": {},
   "outputs": [
    {
     "data": {
      "text/plain": [
       "array([3.19860113])"
      ]
     },
     "execution_count": 5,
     "metadata": {},
     "output_type": "execute_result"
    }
   ],
   "source": [
    "ynew2 = model_2.predict([[700]])\n",
    "ynew2"
   ]
  },
  {
   "cell_type": "markdown",
   "metadata": {},
   "source": [
    "b. What is the r2 score of the model?"
   ]
  },
  {
   "cell_type": "code",
   "execution_count": 6,
   "metadata": {},
   "outputs": [
    {
     "name": "stdout",
     "output_type": "stream",
     "text": [
      "R2 score: 0.086056\n"
     ]
    }
   ],
   "source": [
    "print('R2 score: %f' % r2_score(y, y_pred))"
   ]
  },
  {
   "cell_type": "code",
   "execution_count": 7,
   "metadata": {},
   "outputs": [
    {
     "name": "stdout",
     "output_type": "stream",
     "text": [
      "R2 = r2 (Pearson’s Correlation squared) : 0.086056\n"
     ]
    }
   ],
   "source": [
    "pearson_coff = scipy.stats.pearsonr(y, y_pred)\n",
    "print('R2 = r2 (Pearson’s Correlation squared) : %f' % (pearson_coff[0] * pearson_coff[0]))"
   ]
  },
  {
   "cell_type": "markdown",
   "metadata": {},
   "source": [
    "c. Plot the residuals of the data from the model"
   ]
  },
  {
   "cell_type": "code",
   "execution_count": 8,
   "metadata": {},
   "outputs": [
    {
     "name": "stdout",
     "output_type": "stream",
     "text": [
      "Residual:\n",
      "\n"
     ]
    },
    {
     "data": {
      "text/plain": [
       "<matplotlib.collections.PathCollection at 0x1a1d90d4a8>"
      ]
     },
     "execution_count": 8,
     "metadata": {},
     "output_type": "execute_result"
    },
    {
     "data": {
      "image/png": "[encoded data removed]",
      "text/plain": [
       "<Figure size 432x288 with 1 Axes>"
      ]
     },
     "metadata": {
      "needs_background": "light"
     },
     "output_type": "display_data"
    }
   ],
   "source": [
    "residual = y - y_pred \n",
    "print(\"Residual:\\n\")\n",
    "plt.scatter(X,residual)"
   ]
  },
  {
   "cell_type": "markdown",
   "metadata": {},
   "source": [
    "Problem 2. \n",
    " In the dataset dwell data there is a file multiple-site.tsv. The file contains two columns: a site number and dwell-time on that site. Each site contains multiple entires."
   ]
  },
  {
   "cell_type": "markdown",
   "metadata": {},
   "source": [
    "a. Using scikitlearn compute the mean and standard deviation of the dwell time per site."
   ]
  },
  {
   "cell_type": "code",
   "execution_count": 9,
   "metadata": {},
   "outputs": [
    {
     "data": {
      "text/html": [
       "<div>\n",
       "<style scoped>\n",
       "    .dataframe tbody tr th:only-of-type {\n",
       "        vertical-align: middle;\n",
       "    }\n",
       "\n",
       "    .dataframe tbody tr th {\n",
       "        vertical-align: top;\n",
       "    }\n",
       "\n",
       "    .dataframe thead th {\n",
       "        text-align: right;\n",
       "    }\n",
       "</style>\n",
       "<table border=\"1\" class=\"dataframe\">\n",
       "  <thead>\n",
       "    <tr style=\"text-align: right;\">\n",
       "      <th></th>\n",
       "      <th>site</th>\n",
       "      <th>dwell-time</th>\n",
       "    </tr>\n",
       "  </thead>\n",
       "  <tbody>\n",
       "    <tr>\n",
       "      <th>0</th>\n",
       "      <td>13</td>\n",
       "      <td>28</td>\n",
       "    </tr>\n",
       "    <tr>\n",
       "      <th>1</th>\n",
       "      <td>6</td>\n",
       "      <td>33</td>\n",
       "    </tr>\n",
       "    <tr>\n",
       "      <th>2</th>\n",
       "      <td>17</td>\n",
       "      <td>81</td>\n",
       "    </tr>\n",
       "    <tr>\n",
       "      <th>3</th>\n",
       "      <td>1</td>\n",
       "      <td>67</td>\n",
       "    </tr>\n",
       "    <tr>\n",
       "      <th>4</th>\n",
       "      <td>16</td>\n",
       "      <td>87</td>\n",
       "    </tr>\n",
       "  </tbody>\n",
       "</table>\n",
       "</div>"
      ],
      "text/plain": [
       "   site  dwell-time\n",
       "0    13          28\n",
       "1     6          33\n",
       "2    17          81\n",
       "3     1          67\n",
       "4    16          87"
      ]
     },
     "execution_count": 9,
     "metadata": {},
     "output_type": "execute_result"
    }
   ],
   "source": [
    "dwell_time_df = pd.read_csv(dwell_time, sep='\\t')\n",
    "dwell_time_df.dropna(subset=['site','dwell-time'], inplace = True)\n",
    "dwell_time_df.head()\n"
   ]
  },
  {
   "cell_type": "code",
   "execution_count": 10,
   "metadata": {},
   "outputs": [
    {
     "name": "stdout",
     "output_type": "stream",
     "text": [
      "Mean of the dwell time per site\n"
     ]
    },
    {
     "data": {
      "text/html": [
       "<div>\n",
       "<style scoped>\n",
       "    .dataframe tbody tr th:only-of-type {\n",
       "        vertical-align: middle;\n",
       "    }\n",
       "\n",
       "    .dataframe tbody tr th {\n",
       "        vertical-align: top;\n",
       "    }\n",
       "\n",
       "    .dataframe thead th {\n",
       "        text-align: right;\n",
       "    }\n",
       "</style>\n",
       "<table border=\"1\" class=\"dataframe\">\n",
       "  <thead>\n",
       "    <tr style=\"text-align: right;\">\n",
       "      <th></th>\n",
       "      <th>dwell-time</th>\n",
       "    </tr>\n",
       "    <tr>\n",
       "      <th>site</th>\n",
       "      <th></th>\n",
       "    </tr>\n",
       "  </thead>\n",
       "  <tbody>\n",
       "    <tr>\n",
       "      <th>0</th>\n",
       "      <td>79.851064</td>\n",
       "    </tr>\n",
       "    <tr>\n",
       "      <th>1</th>\n",
       "      <td>106.000000</td>\n",
       "    </tr>\n",
       "    <tr>\n",
       "      <th>2</th>\n",
       "      <td>88.229167</td>\n",
       "    </tr>\n",
       "    <tr>\n",
       "      <th>3</th>\n",
       "      <td>97.479167</td>\n",
       "    </tr>\n",
       "    <tr>\n",
       "      <th>4</th>\n",
       "      <td>94.333333</td>\n",
       "    </tr>\n",
       "    <tr>\n",
       "      <th>5</th>\n",
       "      <td>102.333333</td>\n",
       "    </tr>\n",
       "    <tr>\n",
       "      <th>6</th>\n",
       "      <td>144.192982</td>\n",
       "    </tr>\n",
       "    <tr>\n",
       "      <th>7</th>\n",
       "      <td>123.367347</td>\n",
       "    </tr>\n",
       "    <tr>\n",
       "      <th>8</th>\n",
       "      <td>94.346939</td>\n",
       "    </tr>\n",
       "    <tr>\n",
       "      <th>9</th>\n",
       "      <td>89.820000</td>\n",
       "    </tr>\n",
       "    <tr>\n",
       "      <th>10</th>\n",
       "      <td>129.952381</td>\n",
       "    </tr>\n",
       "    <tr>\n",
       "      <th>11</th>\n",
       "      <td>96.982143</td>\n",
       "    </tr>\n",
       "    <tr>\n",
       "      <th>12</th>\n",
       "      <td>80.950820</td>\n",
       "    </tr>\n",
       "    <tr>\n",
       "      <th>13</th>\n",
       "      <td>90.737705</td>\n",
       "    </tr>\n",
       "    <tr>\n",
       "      <th>14</th>\n",
       "      <td>74.764706</td>\n",
       "    </tr>\n",
       "    <tr>\n",
       "      <th>15</th>\n",
       "      <td>119.347826</td>\n",
       "    </tr>\n",
       "    <tr>\n",
       "      <th>16</th>\n",
       "      <td>86.744186</td>\n",
       "    </tr>\n",
       "    <tr>\n",
       "      <th>17</th>\n",
       "      <td>77.891304</td>\n",
       "    </tr>\n",
       "    <tr>\n",
       "      <th>18</th>\n",
       "      <td>94.814815</td>\n",
       "    </tr>\n",
       "    <tr>\n",
       "      <th>19</th>\n",
       "      <td>89.280702</td>\n",
       "    </tr>\n",
       "  </tbody>\n",
       "</table>\n",
       "</div>"
      ],
      "text/plain": [
       "      dwell-time\n",
       "site            \n",
       "0      79.851064\n",
       "1     106.000000\n",
       "2      88.229167\n",
       "3      97.479167\n",
       "4      94.333333\n",
       "5     102.333333\n",
       "6     144.192982\n",
       "7     123.367347\n",
       "8      94.346939\n",
       "9      89.820000\n",
       "10    129.952381\n",
       "11     96.982143\n",
       "12     80.950820\n",
       "13     90.737705\n",
       "14     74.764706\n",
       "15    119.347826\n",
       "16     86.744186\n",
       "17     77.891304\n",
       "18     94.814815\n",
       "19     89.280702"
      ]
     },
     "execution_count": 10,
     "metadata": {},
     "output_type": "execute_result"
    }
   ],
   "source": [
    "print(\"Mean of the dwell time per site\")\n",
    "dwell_time_df.groupby('site').mean()"
   ]
  },
  {
   "cell_type": "code",
   "execution_count": 11,
   "metadata": {},
   "outputs": [
    {
     "name": "stdout",
     "output_type": "stream",
     "text": [
      "Standard deviation of the dwell time per site\n"
     ]
    },
    {
     "data": {
      "text/html": [
       "<div>\n",
       "<style scoped>\n",
       "    .dataframe tbody tr th:only-of-type {\n",
       "        vertical-align: middle;\n",
       "    }\n",
       "\n",
       "    .dataframe tbody tr th {\n",
       "        vertical-align: top;\n",
       "    }\n",
       "\n",
       "    .dataframe thead th {\n",
       "        text-align: right;\n",
       "    }\n",
       "</style>\n",
       "<table border=\"1\" class=\"dataframe\">\n",
       "  <thead>\n",
       "    <tr style=\"text-align: right;\">\n",
       "      <th></th>\n",
       "      <th>dwell-time</th>\n",
       "    </tr>\n",
       "    <tr>\n",
       "      <th>site</th>\n",
       "      <th></th>\n",
       "    </tr>\n",
       "  </thead>\n",
       "  <tbody>\n",
       "    <tr>\n",
       "      <th>0</th>\n",
       "      <td>79.135266</td>\n",
       "    </tr>\n",
       "    <tr>\n",
       "      <th>1</th>\n",
       "      <td>103.790126</td>\n",
       "    </tr>\n",
       "    <tr>\n",
       "      <th>2</th>\n",
       "      <td>88.709001</td>\n",
       "    </tr>\n",
       "    <tr>\n",
       "      <th>3</th>\n",
       "      <td>74.814093</td>\n",
       "    </tr>\n",
       "    <tr>\n",
       "      <th>4</th>\n",
       "      <td>77.725843</td>\n",
       "    </tr>\n",
       "    <tr>\n",
       "      <th>5</th>\n",
       "      <td>87.700618</td>\n",
       "    </tr>\n",
       "    <tr>\n",
       "      <th>6</th>\n",
       "      <td>146.930917</td>\n",
       "    </tr>\n",
       "    <tr>\n",
       "      <th>7</th>\n",
       "      <td>117.025584</td>\n",
       "    </tr>\n",
       "    <tr>\n",
       "      <th>8</th>\n",
       "      <td>97.564626</td>\n",
       "    </tr>\n",
       "    <tr>\n",
       "      <th>9</th>\n",
       "      <td>100.470463</td>\n",
       "    </tr>\n",
       "    <tr>\n",
       "      <th>10</th>\n",
       "      <td>90.109406</td>\n",
       "    </tr>\n",
       "    <tr>\n",
       "      <th>11</th>\n",
       "      <td>78.946355</td>\n",
       "    </tr>\n",
       "    <tr>\n",
       "      <th>12</th>\n",
       "      <td>68.987300</td>\n",
       "    </tr>\n",
       "    <tr>\n",
       "      <th>13</th>\n",
       "      <td>102.013872</td>\n",
       "    </tr>\n",
       "    <tr>\n",
       "      <th>14</th>\n",
       "      <td>78.262785</td>\n",
       "    </tr>\n",
       "    <tr>\n",
       "      <th>15</th>\n",
       "      <td>107.020500</td>\n",
       "    </tr>\n",
       "    <tr>\n",
       "      <th>16</th>\n",
       "      <td>118.835239</td>\n",
       "    </tr>\n",
       "    <tr>\n",
       "      <th>17</th>\n",
       "      <td>83.413889</td>\n",
       "    </tr>\n",
       "    <tr>\n",
       "      <th>18</th>\n",
       "      <td>81.657609</td>\n",
       "    </tr>\n",
       "    <tr>\n",
       "      <th>19</th>\n",
       "      <td>93.710564</td>\n",
       "    </tr>\n",
       "  </tbody>\n",
       "</table>\n",
       "</div>"
      ],
      "text/plain": [
       "      dwell-time\n",
       "site            \n",
       "0      79.135266\n",
       "1     103.790126\n",
       "2      88.709001\n",
       "3      74.814093\n",
       "4      77.725843\n",
       "5      87.700618\n",
       "6     146.930917\n",
       "7     117.025584\n",
       "8      97.564626\n",
       "9     100.470463\n",
       "10     90.109406\n",
       "11     78.946355\n",
       "12     68.987300\n",
       "13    102.013872\n",
       "14     78.262785\n",
       "15    107.020500\n",
       "16    118.835239\n",
       "17     83.413889\n",
       "18     81.657609\n",
       "19     93.710564"
      ]
     },
     "execution_count": 11,
     "metadata": {},
     "output_type": "execute_result"
    }
   ],
   "source": [
    "print(\"Standard deviation of the dwell time per site\")\n",
    "dwell_time_df.groupby('site').std()"
   ]
  },
  {
   "cell_type": "markdown",
   "metadata": {},
   "source": [
    "b. Using Spark (not scikitlearn) compute the mean and standard deviation of the dwell time per \n",
    "site."
   ]
  },
  {
   "cell_type": "code",
   "execution_count": 12,
   "metadata": {},
   "outputs": [
    {
     "name": "stdout",
     "output_type": "stream",
     "text": [
      "+----+------------------+------------------+\n",
      "|site|           Average|Standard Deviation|\n",
      "+----+------------------+------------------+\n",
      "|   7|123.36734693877551|117.02558371953526|\n",
      "|  15|119.34782608695652|107.02050009046641|\n",
      "|  11| 96.98214285714286| 78.94635487501591|\n",
      "|   3| 97.47916666666667|  74.8140928763278|\n",
      "|   8| 94.34693877551021| 97.56462623572646|\n",
      "|  16| 86.74418604651163|118.83523868570455|\n",
      "|   0| 79.85106382978724| 79.13526634363751|\n",
      "|   5|102.33333333333333|  87.7006178654617|\n",
      "|  18| 94.81481481481481| 81.65760870487834|\n",
      "|  17|  77.8913043478261| 83.41388860132467|\n",
      "|   6|144.19298245614036|146.93091654103628|\n",
      "|  19| 89.28070175438596| 93.71056396959068|\n",
      "|   9|             89.82|100.47046271193848|\n",
      "|   1|             106.0|103.79012594607659|\n",
      "|  10|129.95238095238096| 90.10940569215181|\n",
      "|   4| 94.33333333333333| 77.72584297816697|\n",
      "|  12| 80.95081967213115| 68.98729985282513|\n",
      "|  13| 90.73770491803279|102.01387187360751|\n",
      "|  14| 74.76470588235294| 78.26278508596386|\n",
      "|   2| 88.22916666666667| 88.70900061876551|\n",
      "+----+------------------+------------------+\n",
      "\n"
     ]
    }
   ],
   "source": [
    "import pyspark.sql as sql\n",
    "import pyspark.sql.functions as fn\n",
    "\n",
    "spark = sql.SparkSession.builder \\\n",
    ".master(\"local[*]\") \\\n",
    ".appName(\"Dwell Time\") \\\n",
    ".getOrCreate()\n",
    "\n",
    "dwell_time_df_spark = spark.read.format(\"csv\").option(\"header\", \"true\").option(\"delimiter\", \"\\t\").load(dwell_time)\n",
    "\n",
    "dwell_time_grouped = dwell_time_df_spark.groupBy(\"site\")\\\n",
    "                .agg(fn.mean(\"dwell-time\").alias(\"Average\"), \\\n",
    "                fn.stddev(\"dwell-time\").alias(\"Standard Deviation\"))\n",
    "dwell_time_grouped.show()"
   ]
  }
 ],
 "metadata": {
  "kernelspec": {
   "display_name": "Python 3",
   "language": "python",
   "name": "python3"
  },
  "language_info": {
   "codemirror_mode": {
    "name": "ipython",
    "version": 3
   },
   "file_extension": ".py",
   "mimetype": "text/x-python",
   "name": "python",
   "nbconvert_exporter": "python",
   "pygments_lexer": "ipython3",
   "version": "3.7.1"
  }
 },
 "nbformat": 4,
 "nbformat_minor": 2
}
