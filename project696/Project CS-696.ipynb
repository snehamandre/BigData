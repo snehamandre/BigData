{
 "cells": [
  {
   "cell_type": "markdown",
   "metadata": {},
   "source": [
    "The result paths need to be updated to the run the ML model.\n",
    "Please delete the existing result folders when running the model."
   ]
  },
  {
   "cell_type": "code",
   "execution_count": 1,
   "metadata": {},
   "outputs": [],
   "source": [
    "# file paths\n",
    "black_friday = 'data/BlackFriday.csv'\n",
    "test_path=\"data/test.csv\"\n",
    "path=\"data/train.csv\"\n",
    "decision_tree_result = \"data/result/Submission_dt\"\n",
    "decision_tree_train_split_result = \"data/result/Submission_dt_tvs\"\n",
    "random_forest_result = \"data/result/Submission_rf\""
   ]
  },
  {
   "cell_type": "code",
   "execution_count": 2,
   "metadata": {},
   "outputs": [],
   "source": [
    "import pandas as pd\n",
    "import numpy as np \n",
    "from matplotlib import pyplot as plt\n",
    "import seaborn as sns\n",
    "import scipy.stats\n",
    "from scipy.stats import sem, t\n",
    "from scipy import mean\n"
   ]
  },
  {
   "cell_type": "code",
   "execution_count": 3,
   "metadata": {},
   "outputs": [
    {
     "data": {
      "text/html": [
       "<div>\n",
       "<style scoped>\n",
       "    .dataframe tbody tr th:only-of-type {\n",
       "        vertical-align: middle;\n",
       "    }\n",
       "\n",
       "    .dataframe tbody tr th {\n",
       "        vertical-align: top;\n",
       "    }\n",
       "\n",
       "    .dataframe thead th {\n",
       "        text-align: right;\n",
       "    }\n",
       "</style>\n",
       "<table border=\"1\" class=\"dataframe\">\n",
       "  <thead>\n",
       "    <tr style=\"text-align: right;\">\n",
       "      <th></th>\n",
       "      <th>User_ID</th>\n",
       "      <th>Product_ID</th>\n",
       "      <th>Gender</th>\n",
       "      <th>Age</th>\n",
       "      <th>Occupation</th>\n",
       "      <th>City_Category</th>\n",
       "      <th>Stay_In_Current_City_Years</th>\n",
       "      <th>Marital_Status</th>\n",
       "      <th>Product_Category_1</th>\n",
       "      <th>Product_Category_2</th>\n",
       "      <th>Product_Category_3</th>\n",
       "      <th>Purchase</th>\n",
       "    </tr>\n",
       "  </thead>\n",
       "  <tbody>\n",
       "    <tr>\n",
       "      <th>0</th>\n",
       "      <td>1000001</td>\n",
       "      <td>P00069042</td>\n",
       "      <td>F</td>\n",
       "      <td>0-17</td>\n",
       "      <td>10</td>\n",
       "      <td>A</td>\n",
       "      <td>2</td>\n",
       "      <td>0</td>\n",
       "      <td>3</td>\n",
       "      <td>NaN</td>\n",
       "      <td>NaN</td>\n",
       "      <td>8370</td>\n",
       "    </tr>\n",
       "    <tr>\n",
       "      <th>1</th>\n",
       "      <td>1000001</td>\n",
       "      <td>P00248942</td>\n",
       "      <td>F</td>\n",
       "      <td>0-17</td>\n",
       "      <td>10</td>\n",
       "      <td>A</td>\n",
       "      <td>2</td>\n",
       "      <td>0</td>\n",
       "      <td>1</td>\n",
       "      <td>6.0</td>\n",
       "      <td>14.0</td>\n",
       "      <td>15200</td>\n",
       "    </tr>\n",
       "    <tr>\n",
       "      <th>2</th>\n",
       "      <td>1000001</td>\n",
       "      <td>P00087842</td>\n",
       "      <td>F</td>\n",
       "      <td>0-17</td>\n",
       "      <td>10</td>\n",
       "      <td>A</td>\n",
       "      <td>2</td>\n",
       "      <td>0</td>\n",
       "      <td>12</td>\n",
       "      <td>NaN</td>\n",
       "      <td>NaN</td>\n",
       "      <td>1422</td>\n",
       "    </tr>\n",
       "    <tr>\n",
       "      <th>3</th>\n",
       "      <td>1000001</td>\n",
       "      <td>P00085442</td>\n",
       "      <td>F</td>\n",
       "      <td>0-17</td>\n",
       "      <td>10</td>\n",
       "      <td>A</td>\n",
       "      <td>2</td>\n",
       "      <td>0</td>\n",
       "      <td>12</td>\n",
       "      <td>14.0</td>\n",
       "      <td>NaN</td>\n",
       "      <td>1057</td>\n",
       "    </tr>\n",
       "    <tr>\n",
       "      <th>4</th>\n",
       "      <td>1000002</td>\n",
       "      <td>P00285442</td>\n",
       "      <td>M</td>\n",
       "      <td>55+</td>\n",
       "      <td>16</td>\n",
       "      <td>C</td>\n",
       "      <td>4+</td>\n",
       "      <td>0</td>\n",
       "      <td>8</td>\n",
       "      <td>NaN</td>\n",
       "      <td>NaN</td>\n",
       "      <td>7969</td>\n",
       "    </tr>\n",
       "  </tbody>\n",
       "</table>\n",
       "</div>"
      ],
      "text/plain": [
       "   User_ID Product_ID Gender   Age  Occupation City_Category  \\\n",
       "0  1000001  P00069042      F  0-17          10             A   \n",
       "1  1000001  P00248942      F  0-17          10             A   \n",
       "2  1000001  P00087842      F  0-17          10             A   \n",
       "3  1000001  P00085442      F  0-17          10             A   \n",
       "4  1000002  P00285442      M   55+          16             C   \n",
       "\n",
       "  Stay_In_Current_City_Years  Marital_Status  Product_Category_1  \\\n",
       "0                          2               0                   3   \n",
       "1                          2               0                   1   \n",
       "2                          2               0                  12   \n",
       "3                          2               0                  12   \n",
       "4                         4+               0                   8   \n",
       "\n",
       "   Product_Category_2  Product_Category_3  Purchase  \n",
       "0                 NaN                 NaN      8370  \n",
       "1                 6.0                14.0     15200  \n",
       "2                 NaN                 NaN      1422  \n",
       "3                14.0                 NaN      1057  \n",
       "4                 NaN                 NaN      7969  "
      ]
     },
     "execution_count": 3,
     "metadata": {},
     "output_type": "execute_result"
    }
   ],
   "source": [
    "df = pd.read_csv('data/BlackFriday.csv')\n",
    "df.head()"
   ]
  },
  {
   "cell_type": "markdown",
   "metadata": {},
   "source": [
    "The file contains below columns,\n",
    " \n",
    "User_ID: Unique ID of a customer\n",
    "Product_ID: Unique ID of a product\n",
    "Gender: Gender of the customer. There are two values for this feature, viz. F, M.\n",
    "Age: Age group of the customer. The age group has been divided into 0-17, 18-25, 26-35, 36-45, 46-50, 51-55 and 55+\n",
    "Occupation: The occupation ID of the customer\n",
    "City_Category: The city category viz. A, B, C\n",
    "Stay_In_Current_City_Years: The customers stay in the current city\n",
    "Marital_Status: Customers Marital status, It's a boolean value.\n",
    "Product_Category_1: Product category 1\n",
    "Product_Category_2: Product category 2\n",
    "Product_Category_3: Product category 3\n",
    "Purchase: Purchase amount for the given product by the given customer\n",
    " \n",
    "Let's check if there are any missing values in the file."
   ]
  },
  {
   "cell_type": "code",
   "execution_count": 4,
   "metadata": {},
   "outputs": [
    {
     "name": "stdout",
     "output_type": "stream",
     "text": [
      "User_ID                       False\n",
      "Product_ID                    False\n",
      "Gender                        False\n",
      "Age                           False\n",
      "Occupation                    False\n",
      "City_Category                 False\n",
      "Stay_In_Current_City_Years    False\n",
      "Marital_Status                False\n",
      "Product_Category_1            False\n",
      "Product_Category_2             True\n",
      "Product_Category_3             True\n",
      "Purchase                      False\n",
      "dtype: bool\n"
     ]
    }
   ],
   "source": [
    "print(df.isnull().any())"
   ]
  },
  {
   "cell_type": "markdown",
   "metadata": {},
   "source": [
    "By looking at above result only Product_Category_2 and Product_Category_3 have null values. The mean and median values cannot be applied in this scenario. The best solution is fill them with non-existing category value. As the values for Product_Category_1 are integer, lets fill the null values with 0."
   ]
  },
  {
   "cell_type": "code",
   "execution_count": 5,
   "metadata": {},
   "outputs": [
    {
     "data": {
      "text/html": [
       "<div>\n",
       "<style scoped>\n",
       "    .dataframe tbody tr th:only-of-type {\n",
       "        vertical-align: middle;\n",
       "    }\n",
       "\n",
       "    .dataframe tbody tr th {\n",
       "        vertical-align: top;\n",
       "    }\n",
       "\n",
       "    .dataframe thead th {\n",
       "        text-align: right;\n",
       "    }\n",
       "</style>\n",
       "<table border=\"1\" class=\"dataframe\">\n",
       "  <thead>\n",
       "    <tr style=\"text-align: right;\">\n",
       "      <th></th>\n",
       "      <th>User_ID</th>\n",
       "      <th>Product_ID</th>\n",
       "      <th>Gender</th>\n",
       "      <th>Age</th>\n",
       "      <th>Occupation</th>\n",
       "      <th>City_Category</th>\n",
       "      <th>Stay_In_Current_City_Years</th>\n",
       "      <th>Marital_Status</th>\n",
       "      <th>Product_Category_1</th>\n",
       "      <th>Product_Category_2</th>\n",
       "      <th>Product_Category_3</th>\n",
       "      <th>Purchase</th>\n",
       "    </tr>\n",
       "  </thead>\n",
       "  <tbody>\n",
       "    <tr>\n",
       "      <th>0</th>\n",
       "      <td>1000001</td>\n",
       "      <td>P00069042</td>\n",
       "      <td>F</td>\n",
       "      <td>0-17</td>\n",
       "      <td>10</td>\n",
       "      <td>A</td>\n",
       "      <td>2</td>\n",
       "      <td>0</td>\n",
       "      <td>3</td>\n",
       "      <td>0.0</td>\n",
       "      <td>0.0</td>\n",
       "      <td>8370</td>\n",
       "    </tr>\n",
       "    <tr>\n",
       "      <th>1</th>\n",
       "      <td>1000001</td>\n",
       "      <td>P00248942</td>\n",
       "      <td>F</td>\n",
       "      <td>0-17</td>\n",
       "      <td>10</td>\n",
       "      <td>A</td>\n",
       "      <td>2</td>\n",
       "      <td>0</td>\n",
       "      <td>1</td>\n",
       "      <td>6.0</td>\n",
       "      <td>14.0</td>\n",
       "      <td>15200</td>\n",
       "    </tr>\n",
       "    <tr>\n",
       "      <th>2</th>\n",
       "      <td>1000001</td>\n",
       "      <td>P00087842</td>\n",
       "      <td>F</td>\n",
       "      <td>0-17</td>\n",
       "      <td>10</td>\n",
       "      <td>A</td>\n",
       "      <td>2</td>\n",
       "      <td>0</td>\n",
       "      <td>12</td>\n",
       "      <td>0.0</td>\n",
       "      <td>0.0</td>\n",
       "      <td>1422</td>\n",
       "    </tr>\n",
       "    <tr>\n",
       "      <th>3</th>\n",
       "      <td>1000001</td>\n",
       "      <td>P00085442</td>\n",
       "      <td>F</td>\n",
       "      <td>0-17</td>\n",
       "      <td>10</td>\n",
       "      <td>A</td>\n",
       "      <td>2</td>\n",
       "      <td>0</td>\n",
       "      <td>12</td>\n",
       "      <td>14.0</td>\n",
       "      <td>0.0</td>\n",
       "      <td>1057</td>\n",
       "    </tr>\n",
       "    <tr>\n",
       "      <th>4</th>\n",
       "      <td>1000002</td>\n",
       "      <td>P00285442</td>\n",
       "      <td>M</td>\n",
       "      <td>55+</td>\n",
       "      <td>16</td>\n",
       "      <td>C</td>\n",
       "      <td>4+</td>\n",
       "      <td>0</td>\n",
       "      <td>8</td>\n",
       "      <td>0.0</td>\n",
       "      <td>0.0</td>\n",
       "      <td>7969</td>\n",
       "    </tr>\n",
       "  </tbody>\n",
       "</table>\n",
       "</div>"
      ],
      "text/plain": [
       "   User_ID Product_ID Gender   Age  Occupation City_Category  \\\n",
       "0  1000001  P00069042      F  0-17          10             A   \n",
       "1  1000001  P00248942      F  0-17          10             A   \n",
       "2  1000001  P00087842      F  0-17          10             A   \n",
       "3  1000001  P00085442      F  0-17          10             A   \n",
       "4  1000002  P00285442      M   55+          16             C   \n",
       "\n",
       "  Stay_In_Current_City_Years  Marital_Status  Product_Category_1  \\\n",
       "0                          2               0                   3   \n",
       "1                          2               0                   1   \n",
       "2                          2               0                  12   \n",
       "3                          2               0                  12   \n",
       "4                         4+               0                   8   \n",
       "\n",
       "   Product_Category_2  Product_Category_3  Purchase  \n",
       "0                 0.0                 0.0      8370  \n",
       "1                 6.0                14.0     15200  \n",
       "2                 0.0                 0.0      1422  \n",
       "3                14.0                 0.0      1057  \n",
       "4                 0.0                 0.0      7969  "
      ]
     },
     "execution_count": 5,
     "metadata": {},
     "output_type": "execute_result"
    }
   ],
   "source": [
    "df.fillna(0,inplace=True)\n",
    "df.head()"
   ]
  },
  {
   "cell_type": "markdown",
   "metadata": {},
   "source": [
    "Now that we have a clean data, we can start analysing the file. \n",
    "\n",
    "The purchase behavior of a customer can be examined by the analysing the low level information of the customer such as Gender, Age, Occupation, length of stay in the city, marital status, occupation etc.\n"
   ]
  },
  {
   "cell_type": "code",
   "execution_count": 6,
   "metadata": {},
   "outputs": [
    {
     "data": {
      "text/plain": [
       "<matplotlib.axes._subplots.AxesSubplot at 0x1a18131f28>"
      ]
     },
     "execution_count": 6,
     "metadata": {},
     "output_type": "execute_result"
    },
    {
     "data": {
      "image/png": "[encoded data removed]",
      "text/plain": [
       "<Figure size 720x360 with 1 Axes>"
      ]
     },
     "metadata": {
      "needs_background": "light"
     },
     "output_type": "display_data"
    }
   ],
   "source": [
    "fig, axs = plt.subplots(figsize=(10,5))\n",
    "sns.countplot(df['Age'])"
   ]
  },
  {
   "cell_type": "markdown",
   "metadata": {},
   "source": [
    "By looking at the Age plot it looks like the customers with age group 26-35 purchased more than other age groups."
   ]
  },
  {
   "cell_type": "code",
   "execution_count": 7,
   "metadata": {},
   "outputs": [
    {
     "data": {
      "text/plain": [
       "<matplotlib.axes._subplots.AxesSubplot at 0x115c13198>"
      ]
     },
     "execution_count": 7,
     "metadata": {},
     "output_type": "execute_result"
    },
    {
     "data": {
      "image/png": "[encoded data removed]",
      "text/plain": [
       "<Figure size 432x288 with 1 Axes>"
      ]
     },
     "metadata": {
      "needs_background": "light"
     },
     "output_type": "display_data"
    }
   ],
   "source": [
    "sns.countplot(df['Gender'])"
   ]
  },
  {
   "cell_type": "code",
   "execution_count": 8,
   "metadata": {},
   "outputs": [
    {
     "data": {
      "text/plain": [
       "<matplotlib.axes._subplots.AxesSubplot at 0x115bad9b0>"
      ]
     },
     "execution_count": 8,
     "metadata": {},
     "output_type": "execute_result"
    },
    {
     "data": {
      "image/png": "[encoded data removed]",
      "text/plain": [
       "<Figure size 720x360 with 1 Axes>"
      ]
     },
     "metadata": {
      "needs_background": "light"
     },
     "output_type": "display_data"
    }
   ],
   "source": [
    "fig, axs = plt.subplots(figsize=(10,5))\n",
    "sns.countplot(df['Age'],hue=df['Gender'])"
   ]
  },
  {
   "cell_type": "markdown",
   "metadata": {},
   "source": [
    "The above graph indicates males purchased more products than females. It can also mean that even though females purchased the products, their male partners might have paid for it. Hence the purchase was registered under their name. We can test this theory by further analysing the data for marital status column."
   ]
  },
  {
   "cell_type": "code",
   "execution_count": 9,
   "metadata": {},
   "outputs": [
    {
     "data": {
      "text/plain": [
       "<matplotlib.axes._subplots.AxesSubplot at 0x1a1aae63c8>"
      ]
     },
     "execution_count": 9,
     "metadata": {},
     "output_type": "execute_result"
    },
    {
     "data": {
      "image/png": "[encoded data removed]",
      "text/plain": [
       "<Figure size 1080x360 with 1 Axes>"
      ]
     },
     "metadata": {
      "needs_background": "light"
     },
     "output_type": "display_data"
    }
   ],
   "source": [
    "fig, axs = plt.subplots(figsize=(15,5))\n",
    "df['Gender_Marital_status'] = df.apply(lambda x:'%s_%s' % (x['Gender'],x['Marital_Status']),axis=1)\n",
    "sns.countplot(df['Age'],hue=df['Gender_Marital_status'])"
   ]
  },
  {
   "cell_type": "markdown",
   "metadata": {},
   "source": [
    "As we see in all age group despite the marital status males are the highest purchasers. But this doesn't indicate that the males purchased the products for themselves and the current dataset doesn't have any information about that. Also as the product categories in the dataset are in integer values they don't have any information whether the product falls under faminine category. Hence we don't know for sure which gender is more likely to purchase more products.\n",
    "\n",
    "The above graph also indicates that the unmarried people from ages 0 to 45 have purchased more than that of married people in those age groups. However from ages 46 and above the married people have purchased more. The reason behind it could be the married population is greater than unmarried population in 45+ age groups. "
   ]
  },
  {
   "cell_type": "markdown",
   "metadata": {},
   "source": [
    "Let's check the average amount spend by each gender"
   ]
  },
  {
   "cell_type": "markdown",
   "metadata": {},
   "source": [
    "The userId is repeated in the file, because a user has purchased multiple products. Lets create a dataframe with columns userID, gender and their total purchase."
   ]
  },
  {
   "cell_type": "code",
   "execution_count": 10,
   "metadata": {},
   "outputs": [
    {
     "data": {
      "text/html": [
       "<div>\n",
       "<style scoped>\n",
       "    .dataframe tbody tr th:only-of-type {\n",
       "        vertical-align: middle;\n",
       "    }\n",
       "\n",
       "    .dataframe tbody tr th {\n",
       "        vertical-align: top;\n",
       "    }\n",
       "\n",
       "    .dataframe thead th {\n",
       "        text-align: right;\n",
       "    }\n",
       "</style>\n",
       "<table border=\"1\" class=\"dataframe\">\n",
       "  <thead>\n",
       "    <tr style=\"text-align: right;\">\n",
       "      <th></th>\n",
       "      <th>Gender</th>\n",
       "      <th>Purchase</th>\n",
       "    </tr>\n",
       "  </thead>\n",
       "  <tbody>\n",
       "    <tr>\n",
       "      <th>0</th>\n",
       "      <td>F</td>\n",
       "      <td>699054.034214</td>\n",
       "    </tr>\n",
       "    <tr>\n",
       "      <th>1</th>\n",
       "      <td>M</td>\n",
       "      <td>911963.161420</td>\n",
       "    </tr>\n",
       "  </tbody>\n",
       "</table>\n",
       "</div>"
      ],
      "text/plain": [
       "  Gender       Purchase\n",
       "0      F  699054.034214\n",
       "1      M  911963.161420"
      ]
     },
     "execution_count": 10,
     "metadata": {},
     "output_type": "execute_result"
    }
   ],
   "source": [
    "user_total_purchase = df.groupby(['User_ID', 'Gender'])[['Purchase']].sum().reset_index()\n",
    "gender_average_purchase = user_total_purchase.groupby(['Gender'])['Purchase'].agg('mean').reset_index()\n",
    "gender_average_purchase.head()"
   ]
  },
  {
   "cell_type": "markdown",
   "metadata": {},
   "source": [
    "Below is the plot for average purchase for each gender."
   ]
  },
  {
   "cell_type": "code",
   "execution_count": 11,
   "metadata": {},
   "outputs": [
    {
     "data": {
      "text/plain": [
       "<matplotlib.axes._subplots.AxesSubplot at 0x115bad860>"
      ]
     },
     "execution_count": 11,
     "metadata": {},
     "output_type": "execute_result"
    },
    {
     "data": {
      "image/png": "[encoded data removed]",
      "text/plain": [
       "<Figure size 432x288 with 1 Axes>"
      ]
     },
     "metadata": {
      "needs_background": "light"
     },
     "output_type": "display_data"
    }
   ],
   "source": [
    "sns.barplot(x = 'Gender', y = 'Purchase', data = gender_average_purchase)"
   ]
  },
  {
   "cell_type": "markdown",
   "metadata": {},
   "source": [
    "The above graph indicates that even though the number of purchases made by males are more than double than that of females, there is a only a small different between their average purchase amount.\n"
   ]
  },
  {
   "cell_type": "markdown",
   "metadata": {},
   "source": [
    "Let's see which products have been purchased by each age group"
   ]
  },
  {
   "cell_type": "code",
   "execution_count": 12,
   "metadata": {},
   "outputs": [],
   "source": [
    "age_total_purchase = df.groupby(['Age', 'Product_Category_1'])[['Purchase']].sum().reset_index()\n"
   ]
  },
  {
   "cell_type": "code",
   "execution_count": 13,
   "metadata": {},
   "outputs": [
    {
     "data": {
      "image/png": "[encoded data removed]",
      "text/plain": [
       "<Figure size 1440x1440 with 7 Axes>"
      ]
     },
     "metadata": {},
     "output_type": "display_data"
    }
   ],
   "source": [
    "age_groups = age_total_purchase['Age'].unique()\n",
    "plot_rows = len(age_groups)/2 + len(age_groups)%2\n",
    "\n",
    "figure = plt.figure(figsize=(20,20))\n",
    "\n",
    "i = 1\n",
    "for age in age_groups:\n",
    "    ax = figure.add_subplot(plot_rows, 3, i)\n",
    "    category_purchase = age_total_purchase[age_total_purchase['Age'] == age]\n",
    "    labels = category_purchase['Product_Category_1'].values\n",
    "    total_purchase = category_purchase['Purchase'].values\n",
    "    explode = [0.1 for i in range(len(total_purchase))]\n",
    "    ax.pie(total_purchase, labels=labels, autopct='%.2f%%', explode = explode, startangle=90)\n",
    "    plt.title(\"Age Group: \"+age)\n",
    "    i+=1\n",
    "\n"
   ]
  },
  {
   "cell_type": "markdown",
   "metadata": {},
   "source": [
    "The above graph indicates that despite the age group Product Category 1 has been purchased more as compared to other categories. The distribution of total purchase of Product Category 1 by each Age group is similar. This graph can be used to recommend specific products for each age groups.\n"
   ]
  },
  {
   "cell_type": "markdown",
   "metadata": {},
   "source": [
    "Now let's plot purchases for the city categories"
   ]
  },
  {
   "cell_type": "code",
   "execution_count": 14,
   "metadata": {},
   "outputs": [
    {
     "data": {
      "text/html": [
       "<div>\n",
       "<style scoped>\n",
       "    .dataframe tbody tr th:only-of-type {\n",
       "        vertical-align: middle;\n",
       "    }\n",
       "\n",
       "    .dataframe tbody tr th {\n",
       "        vertical-align: top;\n",
       "    }\n",
       "\n",
       "    .dataframe thead th {\n",
       "        text-align: right;\n",
       "    }\n",
       "</style>\n",
       "<table border=\"1\" class=\"dataframe\">\n",
       "  <thead>\n",
       "    <tr style=\"text-align: right;\">\n",
       "      <th></th>\n",
       "      <th>City_Category</th>\n",
       "      <th>Purchase</th>\n",
       "    </tr>\n",
       "  </thead>\n",
       "  <tbody>\n",
       "    <tr>\n",
       "      <th>0</th>\n",
       "      <td>A</td>\n",
       "      <td>1295668797</td>\n",
       "    </tr>\n",
       "    <tr>\n",
       "      <th>1</th>\n",
       "      <td>B</td>\n",
       "      <td>2083431612</td>\n",
       "    </tr>\n",
       "    <tr>\n",
       "      <th>2</th>\n",
       "      <td>C</td>\n",
       "      <td>1638567969</td>\n",
       "    </tr>\n",
       "  </tbody>\n",
       "</table>\n",
       "</div>"
      ],
      "text/plain": [
       "  City_Category    Purchase\n",
       "0             A  1295668797\n",
       "1             B  2083431612\n",
       "2             C  1638567969"
      ]
     },
     "execution_count": 14,
     "metadata": {},
     "output_type": "execute_result"
    }
   ],
   "source": [
    "city_total_purchase = df.groupby(['City_Category'])[['Purchase']].sum().reset_index()\n",
    "city_total_purchase.head()"
   ]
  },
  {
   "cell_type": "code",
   "execution_count": 15,
   "metadata": {},
   "outputs": [
    {
     "data": {
      "text/html": [
       "<div>\n",
       "<style scoped>\n",
       "    .dataframe tbody tr th:only-of-type {\n",
       "        vertical-align: middle;\n",
       "    }\n",
       "\n",
       "    .dataframe tbody tr th {\n",
       "        vertical-align: top;\n",
       "    }\n",
       "\n",
       "    .dataframe thead th {\n",
       "        text-align: right;\n",
       "    }\n",
       "</style>\n",
       "<table border=\"1\" class=\"dataframe\">\n",
       "  <thead>\n",
       "    <tr style=\"text-align: right;\">\n",
       "      <th></th>\n",
       "      <th>City_Category</th>\n",
       "      <th>counts</th>\n",
       "    </tr>\n",
       "  </thead>\n",
       "  <tbody>\n",
       "    <tr>\n",
       "      <th>0</th>\n",
       "      <td>A</td>\n",
       "      <td>144638</td>\n",
       "    </tr>\n",
       "    <tr>\n",
       "      <th>1</th>\n",
       "      <td>B</td>\n",
       "      <td>226493</td>\n",
       "    </tr>\n",
       "    <tr>\n",
       "      <th>2</th>\n",
       "      <td>C</td>\n",
       "      <td>166446</td>\n",
       "    </tr>\n",
       "  </tbody>\n",
       "</table>\n",
       "</div>"
      ],
      "text/plain": [
       "  City_Category  counts\n",
       "0             A  144638\n",
       "1             B  226493\n",
       "2             C  166446"
      ]
     },
     "execution_count": 15,
     "metadata": {},
     "output_type": "execute_result"
    }
   ],
   "source": [
    "city_purchase_count = df.groupby(['City_Category']).size().reset_index(name='counts')\n",
    "city_purchase_count.head()"
   ]
  },
  {
   "cell_type": "code",
   "execution_count": 16,
   "metadata": {},
   "outputs": [
    {
     "data": {
      "text/plain": [
       "([<matplotlib.patches.Wedge at 0x1a19cae6a0>,\n",
       "  <matplotlib.patches.Wedge at 0x1a19caeda0>,\n",
       "  <matplotlib.patches.Wedge at 0x1a19cb54e0>],\n",
       " [Text(-0.8229598156883979, 0.7298884447380424, 'A'),\n",
       "  Text(-0.13981115167211647, -1.0910787514511116, 'B'),\n",
       "  Text(0.9090550691229756, 0.6193697452264053, 'C')],\n",
       " [Text(-0.4488871721936715, 0.398120969857114, '26.91%'),\n",
       "  Text(-0.07626062818479079, -0.595133864427879, '42.13%'),\n",
       "  Text(0.495848219521623, 0.33783804285076646, '30.96%')])"
      ]
     },
     "execution_count": 16,
     "metadata": {},
     "output_type": "execute_result"
    },
    {
     "data": {
      "image/png": "[encoded data removed]",
      "text/plain": [
       "<Figure size 720x720 with 2 Axes>"
      ]
     },
     "metadata": {},
     "output_type": "display_data"
    }
   ],
   "source": [
    "figure = plt.figure(figsize=(10,10))\n",
    "ax1 = figure.add_subplot(2, 2, 1)\n",
    "ax2 = figure.add_subplot(2, 2, 2)\n",
    "\n",
    "labels1 = city_total_purchase['City_Category'].values\n",
    "total_purchase = city_total_purchase['Purchase'].values\n",
    "ax1.pie(total_purchase, labels=labels1, autopct='%.2f%%', startangle=90)\n",
    "\n",
    "labels2 = city_purchase_count['City_Category'].values\n",
    "purchase_count = city_purchase_count['counts'].values\n",
    "ax2.pie(purchase_count, labels=labels2, autopct='%.2f%%', startangle=90)"
   ]
  },
  {
   "cell_type": "markdown",
   "metadata": {},
   "source": [
    "As seen above, the city category B has more number of purchase as well as highest total purchase amount. By looking at above charts we can assume that both the chart have the same distribution.\n",
    "\n",
    "We can further analysis it by plotting total purchase for each City_Category considering the Stay_In_Current_City_Years."
   ]
  },
  {
   "cell_type": "code",
   "execution_count": 17,
   "metadata": {},
   "outputs": [
    {
     "data": {
      "text/plain": [
       "<matplotlib.axes._subplots.AxesSubplot at 0x1a22dc7a58>"
      ]
     },
     "execution_count": 17,
     "metadata": {},
     "output_type": "execute_result"
    },
    {
     "data": {
      "image/png": "[encoded data removed]",
      "text/plain": [
       "<Figure size 720x360 with 1 Axes>"
      ]
     },
     "metadata": {
      "needs_background": "light"
     },
     "output_type": "display_data"
    }
   ],
   "source": [
    "city_stay_total_purchase = df.groupby(['City_Category','Stay_In_Current_City_Years'])[['Purchase']].sum().reset_index()\n",
    "figure = plt.figure(figsize=(10,5))\n",
    "sns.barplot('City_Category','Purchase',hue='Stay_In_Current_City_Years',data=city_stay_total_purchase)"
   ]
  },
  {
   "cell_type": "markdown",
   "metadata": {},
   "source": [
    "The above graph indicates customers have purchased more when they have stayed in the current city for 1 year. It's also safe to assume that customers tends to shop less if they are new to the city. The purchase amount has decresed as the stay in the city has gotten longer"
   ]
  },
  {
   "cell_type": "markdown",
   "metadata": {},
   "source": [
    "Now let's plot purchases for the occupation,"
   ]
  },
  {
   "cell_type": "code",
   "execution_count": 18,
   "metadata": {},
   "outputs": [
    {
     "data": {
      "text/html": [
       "<div>\n",
       "<style scoped>\n",
       "    .dataframe tbody tr th:only-of-type {\n",
       "        vertical-align: middle;\n",
       "    }\n",
       "\n",
       "    .dataframe tbody tr th {\n",
       "        vertical-align: top;\n",
       "    }\n",
       "\n",
       "    .dataframe thead th {\n",
       "        text-align: right;\n",
       "    }\n",
       "</style>\n",
       "<table border=\"1\" class=\"dataframe\">\n",
       "  <thead>\n",
       "    <tr style=\"text-align: right;\">\n",
       "      <th></th>\n",
       "      <th>Occupation</th>\n",
       "      <th>Purchase</th>\n",
       "    </tr>\n",
       "  </thead>\n",
       "  <tbody>\n",
       "    <tr>\n",
       "      <th>0</th>\n",
       "      <td>0</td>\n",
       "      <td>625814811</td>\n",
       "    </tr>\n",
       "    <tr>\n",
       "      <th>1</th>\n",
       "      <td>1</td>\n",
       "      <td>414552829</td>\n",
       "    </tr>\n",
       "    <tr>\n",
       "      <th>2</th>\n",
       "      <td>2</td>\n",
       "      <td>233275393</td>\n",
       "    </tr>\n",
       "    <tr>\n",
       "      <th>3</th>\n",
       "      <td>3</td>\n",
       "      <td>160428450</td>\n",
       "    </tr>\n",
       "    <tr>\n",
       "      <th>4</th>\n",
       "      <td>4</td>\n",
       "      <td>657530393</td>\n",
       "    </tr>\n",
       "  </tbody>\n",
       "</table>\n",
       "</div>"
      ],
      "text/plain": [
       "   Occupation   Purchase\n",
       "0           0  625814811\n",
       "1           1  414552829\n",
       "2           2  233275393\n",
       "3           3  160428450\n",
       "4           4  657530393"
      ]
     },
     "execution_count": 18,
     "metadata": {},
     "output_type": "execute_result"
    }
   ],
   "source": [
    "occupation_total_purchase = df.groupby(['Occupation'])[['Purchase']].sum().reset_index()\n",
    "occupation_total_purchase.head()"
   ]
  },
  {
   "cell_type": "code",
   "execution_count": 19,
   "metadata": {},
   "outputs": [
    {
     "data": {
      "text/html": [
       "<div>\n",
       "<style scoped>\n",
       "    .dataframe tbody tr th:only-of-type {\n",
       "        vertical-align: middle;\n",
       "    }\n",
       "\n",
       "    .dataframe tbody tr th {\n",
       "        vertical-align: top;\n",
       "    }\n",
       "\n",
       "    .dataframe thead th {\n",
       "        text-align: right;\n",
       "    }\n",
       "</style>\n",
       "<table border=\"1\" class=\"dataframe\">\n",
       "  <thead>\n",
       "    <tr style=\"text-align: right;\">\n",
       "      <th></th>\n",
       "      <th>Occupation</th>\n",
       "      <th>counts</th>\n",
       "    </tr>\n",
       "  </thead>\n",
       "  <tbody>\n",
       "    <tr>\n",
       "      <th>0</th>\n",
       "      <td>0</td>\n",
       "      <td>68120</td>\n",
       "    </tr>\n",
       "    <tr>\n",
       "      <th>1</th>\n",
       "      <td>1</td>\n",
       "      <td>45971</td>\n",
       "    </tr>\n",
       "    <tr>\n",
       "      <th>2</th>\n",
       "      <td>2</td>\n",
       "      <td>25845</td>\n",
       "    </tr>\n",
       "    <tr>\n",
       "      <th>3</th>\n",
       "      <td>3</td>\n",
       "      <td>17366</td>\n",
       "    </tr>\n",
       "    <tr>\n",
       "      <th>4</th>\n",
       "      <td>4</td>\n",
       "      <td>70862</td>\n",
       "    </tr>\n",
       "  </tbody>\n",
       "</table>\n",
       "</div>"
      ],
      "text/plain": [
       "   Occupation  counts\n",
       "0           0   68120\n",
       "1           1   45971\n",
       "2           2   25845\n",
       "3           3   17366\n",
       "4           4   70862"
      ]
     },
     "execution_count": 19,
     "metadata": {},
     "output_type": "execute_result"
    }
   ],
   "source": [
    "occupation_purchase_count = df.groupby(['Occupation']).size().reset_index(name='counts')\n",
    "occupation_purchase_count.head()"
   ]
  },
  {
   "cell_type": "code",
   "execution_count": 20,
   "metadata": {},
   "outputs": [
    {
     "data": {
      "text/plain": [
       "<matplotlib.axes._subplots.AxesSubplot at 0x1a1a8f59e8>"
      ]
     },
     "execution_count": 20,
     "metadata": {},
     "output_type": "execute_result"
    },
    {
     "data": {
      "image/png": "[encoded data removed]",
      "text/plain": [
       "<Figure size 1080x360 with 1 Axes>"
      ]
     },
     "metadata": {
      "needs_background": "light"
     },
     "output_type": "display_data"
    }
   ],
   "source": [
    "fig, axs = plt.subplots(figsize=(15,5))\n",
    "sns.barplot(x = 'Occupation', y = 'Purchase', data = occupation_total_purchase)"
   ]
  },
  {
   "cell_type": "code",
   "execution_count": 21,
   "metadata": {},
   "outputs": [
    {
     "data": {
      "text/plain": [
       "<matplotlib.axes._subplots.AxesSubplot at 0x115aa4e48>"
      ]
     },
     "execution_count": 21,
     "metadata": {},
     "output_type": "execute_result"
    },
    {
     "data": {
      "image/png": "[encoded data removed]",
      "text/plain": [
       "<Figure size 1080x360 with 1 Axes>"
      ]
     },
     "metadata": {
      "needs_background": "light"
     },
     "output_type": "display_data"
    }
   ],
   "source": [
    "fig, axs = plt.subplots(figsize=(15,5))\n",
    "sns.barplot(x = 'Occupation', y = 'counts', data = occupation_purchase_count)\n"
   ]
  },
  {
   "cell_type": "markdown",
   "metadata": {},
   "source": [
    "As we can see for both the graphs occupation 4 and 0 have the highest total purchase amount and number of purchases. We see similar distribution for both the graphs."
   ]
  },
  {
   "cell_type": "code",
   "execution_count": 22,
   "metadata": {},
   "outputs": [
    {
     "data": {
      "text/html": [
       "<div>\n",
       "<style scoped>\n",
       "    .dataframe tbody tr th:only-of-type {\n",
       "        vertical-align: middle;\n",
       "    }\n",
       "\n",
       "    .dataframe tbody tr th {\n",
       "        vertical-align: top;\n",
       "    }\n",
       "\n",
       "    .dataframe thead th {\n",
       "        text-align: right;\n",
       "    }\n",
       "</style>\n",
       "<table border=\"1\" class=\"dataframe\">\n",
       "  <thead>\n",
       "    <tr style=\"text-align: right;\">\n",
       "      <th></th>\n",
       "      <th>Product_ID</th>\n",
       "      <th>User_ID</th>\n",
       "      <th>counts</th>\n",
       "    </tr>\n",
       "  </thead>\n",
       "  <tbody>\n",
       "    <tr>\n",
       "      <th>0</th>\n",
       "      <td>P00000142</td>\n",
       "      <td>1000001</td>\n",
       "      <td>1</td>\n",
       "    </tr>\n",
       "    <tr>\n",
       "      <th>1</th>\n",
       "      <td>P00000142</td>\n",
       "      <td>1000006</td>\n",
       "      <td>1</td>\n",
       "    </tr>\n",
       "    <tr>\n",
       "      <th>2</th>\n",
       "      <td>P00000142</td>\n",
       "      <td>1000018</td>\n",
       "      <td>1</td>\n",
       "    </tr>\n",
       "    <tr>\n",
       "      <th>3</th>\n",
       "      <td>P00000142</td>\n",
       "      <td>1000021</td>\n",
       "      <td>1</td>\n",
       "    </tr>\n",
       "    <tr>\n",
       "      <th>4</th>\n",
       "      <td>P00000142</td>\n",
       "      <td>1000023</td>\n",
       "      <td>1</td>\n",
       "    </tr>\n",
       "    <tr>\n",
       "      <th>5</th>\n",
       "      <td>P00000142</td>\n",
       "      <td>1000028</td>\n",
       "      <td>1</td>\n",
       "    </tr>\n",
       "    <tr>\n",
       "      <th>6</th>\n",
       "      <td>P00000142</td>\n",
       "      <td>1000034</td>\n",
       "      <td>1</td>\n",
       "    </tr>\n",
       "    <tr>\n",
       "      <th>7</th>\n",
       "      <td>P00000142</td>\n",
       "      <td>1000036</td>\n",
       "      <td>1</td>\n",
       "    </tr>\n",
       "    <tr>\n",
       "      <th>8</th>\n",
       "      <td>P00000142</td>\n",
       "      <td>1000048</td>\n",
       "      <td>1</td>\n",
       "    </tr>\n",
       "    <tr>\n",
       "      <th>9</th>\n",
       "      <td>P00000142</td>\n",
       "      <td>1000049</td>\n",
       "      <td>1</td>\n",
       "    </tr>\n",
       "    <tr>\n",
       "      <th>10</th>\n",
       "      <td>P00000142</td>\n",
       "      <td>1000051</td>\n",
       "      <td>1</td>\n",
       "    </tr>\n",
       "    <tr>\n",
       "      <th>11</th>\n",
       "      <td>P00000142</td>\n",
       "      <td>1000060</td>\n",
       "      <td>1</td>\n",
       "    </tr>\n",
       "    <tr>\n",
       "      <th>12</th>\n",
       "      <td>P00000142</td>\n",
       "      <td>1000068</td>\n",
       "      <td>1</td>\n",
       "    </tr>\n",
       "    <tr>\n",
       "      <th>13</th>\n",
       "      <td>P00000142</td>\n",
       "      <td>1000076</td>\n",
       "      <td>1</td>\n",
       "    </tr>\n",
       "    <tr>\n",
       "      <th>14</th>\n",
       "      <td>P00000142</td>\n",
       "      <td>1000080</td>\n",
       "      <td>1</td>\n",
       "    </tr>\n",
       "    <tr>\n",
       "      <th>15</th>\n",
       "      <td>P00000142</td>\n",
       "      <td>1000092</td>\n",
       "      <td>1</td>\n",
       "    </tr>\n",
       "    <tr>\n",
       "      <th>16</th>\n",
       "      <td>P00000142</td>\n",
       "      <td>1000112</td>\n",
       "      <td>1</td>\n",
       "    </tr>\n",
       "    <tr>\n",
       "      <th>17</th>\n",
       "      <td>P00000142</td>\n",
       "      <td>1000114</td>\n",
       "      <td>1</td>\n",
       "    </tr>\n",
       "    <tr>\n",
       "      <th>18</th>\n",
       "      <td>P00000142</td>\n",
       "      <td>1000123</td>\n",
       "      <td>1</td>\n",
       "    </tr>\n",
       "    <tr>\n",
       "      <th>19</th>\n",
       "      <td>P00000142</td>\n",
       "      <td>1000132</td>\n",
       "      <td>1</td>\n",
       "    </tr>\n",
       "    <tr>\n",
       "      <th>20</th>\n",
       "      <td>P00000142</td>\n",
       "      <td>1000134</td>\n",
       "      <td>1</td>\n",
       "    </tr>\n",
       "    <tr>\n",
       "      <th>21</th>\n",
       "      <td>P00000142</td>\n",
       "      <td>1000136</td>\n",
       "      <td>1</td>\n",
       "    </tr>\n",
       "    <tr>\n",
       "      <th>22</th>\n",
       "      <td>P00000142</td>\n",
       "      <td>1000142</td>\n",
       "      <td>1</td>\n",
       "    </tr>\n",
       "    <tr>\n",
       "      <th>23</th>\n",
       "      <td>P00000142</td>\n",
       "      <td>1000150</td>\n",
       "      <td>1</td>\n",
       "    </tr>\n",
       "    <tr>\n",
       "      <th>24</th>\n",
       "      <td>P00000142</td>\n",
       "      <td>1000151</td>\n",
       "      <td>1</td>\n",
       "    </tr>\n",
       "    <tr>\n",
       "      <th>25</th>\n",
       "      <td>P00000142</td>\n",
       "      <td>1000152</td>\n",
       "      <td>1</td>\n",
       "    </tr>\n",
       "    <tr>\n",
       "      <th>26</th>\n",
       "      <td>P00000142</td>\n",
       "      <td>1000156</td>\n",
       "      <td>1</td>\n",
       "    </tr>\n",
       "    <tr>\n",
       "      <th>27</th>\n",
       "      <td>P00000142</td>\n",
       "      <td>1000157</td>\n",
       "      <td>1</td>\n",
       "    </tr>\n",
       "    <tr>\n",
       "      <th>28</th>\n",
       "      <td>P00000142</td>\n",
       "      <td>1000163</td>\n",
       "      <td>1</td>\n",
       "    </tr>\n",
       "    <tr>\n",
       "      <th>29</th>\n",
       "      <td>P00000142</td>\n",
       "      <td>1000169</td>\n",
       "      <td>1</td>\n",
       "    </tr>\n",
       "    <tr>\n",
       "      <th>...</th>\n",
       "      <td>...</td>\n",
       "      <td>...</td>\n",
       "      <td>...</td>\n",
       "    </tr>\n",
       "    <tr>\n",
       "      <th>537547</th>\n",
       "      <td>P0099842</td>\n",
       "      <td>1005163</td>\n",
       "      <td>1</td>\n",
       "    </tr>\n",
       "    <tr>\n",
       "      <th>537548</th>\n",
       "      <td>P0099842</td>\n",
       "      <td>1005260</td>\n",
       "      <td>1</td>\n",
       "    </tr>\n",
       "    <tr>\n",
       "      <th>537549</th>\n",
       "      <td>P0099842</td>\n",
       "      <td>1005273</td>\n",
       "      <td>1</td>\n",
       "    </tr>\n",
       "    <tr>\n",
       "      <th>537550</th>\n",
       "      <td>P0099842</td>\n",
       "      <td>1005319</td>\n",
       "      <td>1</td>\n",
       "    </tr>\n",
       "    <tr>\n",
       "      <th>537551</th>\n",
       "      <td>P0099842</td>\n",
       "      <td>1005323</td>\n",
       "      <td>1</td>\n",
       "    </tr>\n",
       "    <tr>\n",
       "      <th>537552</th>\n",
       "      <td>P0099842</td>\n",
       "      <td>1005344</td>\n",
       "      <td>1</td>\n",
       "    </tr>\n",
       "    <tr>\n",
       "      <th>537553</th>\n",
       "      <td>P0099842</td>\n",
       "      <td>1005387</td>\n",
       "      <td>1</td>\n",
       "    </tr>\n",
       "    <tr>\n",
       "      <th>537554</th>\n",
       "      <td>P0099842</td>\n",
       "      <td>1005493</td>\n",
       "      <td>1</td>\n",
       "    </tr>\n",
       "    <tr>\n",
       "      <th>537555</th>\n",
       "      <td>P0099842</td>\n",
       "      <td>1005500</td>\n",
       "      <td>1</td>\n",
       "    </tr>\n",
       "    <tr>\n",
       "      <th>537556</th>\n",
       "      <td>P0099842</td>\n",
       "      <td>1005539</td>\n",
       "      <td>1</td>\n",
       "    </tr>\n",
       "    <tr>\n",
       "      <th>537557</th>\n",
       "      <td>P0099842</td>\n",
       "      <td>1005639</td>\n",
       "      <td>1</td>\n",
       "    </tr>\n",
       "    <tr>\n",
       "      <th>537558</th>\n",
       "      <td>P0099842</td>\n",
       "      <td>1005704</td>\n",
       "      <td>1</td>\n",
       "    </tr>\n",
       "    <tr>\n",
       "      <th>537559</th>\n",
       "      <td>P0099842</td>\n",
       "      <td>1005734</td>\n",
       "      <td>1</td>\n",
       "    </tr>\n",
       "    <tr>\n",
       "      <th>537560</th>\n",
       "      <td>P0099842</td>\n",
       "      <td>1005744</td>\n",
       "      <td>1</td>\n",
       "    </tr>\n",
       "    <tr>\n",
       "      <th>537561</th>\n",
       "      <td>P0099842</td>\n",
       "      <td>1005832</td>\n",
       "      <td>1</td>\n",
       "    </tr>\n",
       "    <tr>\n",
       "      <th>537562</th>\n",
       "      <td>P0099842</td>\n",
       "      <td>1005874</td>\n",
       "      <td>1</td>\n",
       "    </tr>\n",
       "    <tr>\n",
       "      <th>537563</th>\n",
       "      <td>P0099842</td>\n",
       "      <td>1005889</td>\n",
       "      <td>1</td>\n",
       "    </tr>\n",
       "    <tr>\n",
       "      <th>537564</th>\n",
       "      <td>P0099942</td>\n",
       "      <td>1001150</td>\n",
       "      <td>1</td>\n",
       "    </tr>\n",
       "    <tr>\n",
       "      <th>537565</th>\n",
       "      <td>P0099942</td>\n",
       "      <td>1001294</td>\n",
       "      <td>1</td>\n",
       "    </tr>\n",
       "    <tr>\n",
       "      <th>537566</th>\n",
       "      <td>P0099942</td>\n",
       "      <td>1001383</td>\n",
       "      <td>1</td>\n",
       "    </tr>\n",
       "    <tr>\n",
       "      <th>537567</th>\n",
       "      <td>P0099942</td>\n",
       "      <td>1001883</td>\n",
       "      <td>1</td>\n",
       "    </tr>\n",
       "    <tr>\n",
       "      <th>537568</th>\n",
       "      <td>P0099942</td>\n",
       "      <td>1002006</td>\n",
       "      <td>1</td>\n",
       "    </tr>\n",
       "    <tr>\n",
       "      <th>537569</th>\n",
       "      <td>P0099942</td>\n",
       "      <td>1002361</td>\n",
       "      <td>1</td>\n",
       "    </tr>\n",
       "    <tr>\n",
       "      <th>537570</th>\n",
       "      <td>P0099942</td>\n",
       "      <td>1002665</td>\n",
       "      <td>1</td>\n",
       "    </tr>\n",
       "    <tr>\n",
       "      <th>537571</th>\n",
       "      <td>P0099942</td>\n",
       "      <td>1003039</td>\n",
       "      <td>1</td>\n",
       "    </tr>\n",
       "    <tr>\n",
       "      <th>537572</th>\n",
       "      <td>P0099942</td>\n",
       "      <td>1003610</td>\n",
       "      <td>1</td>\n",
       "    </tr>\n",
       "    <tr>\n",
       "      <th>537573</th>\n",
       "      <td>P0099942</td>\n",
       "      <td>1004083</td>\n",
       "      <td>1</td>\n",
       "    </tr>\n",
       "    <tr>\n",
       "      <th>537574</th>\n",
       "      <td>P0099942</td>\n",
       "      <td>1004401</td>\n",
       "      <td>1</td>\n",
       "    </tr>\n",
       "    <tr>\n",
       "      <th>537575</th>\n",
       "      <td>P0099942</td>\n",
       "      <td>1004497</td>\n",
       "      <td>1</td>\n",
       "    </tr>\n",
       "    <tr>\n",
       "      <th>537576</th>\n",
       "      <td>P0099942</td>\n",
       "      <td>1004579</td>\n",
       "      <td>1</td>\n",
       "    </tr>\n",
       "  </tbody>\n",
       "</table>\n",
       "<p>537577 rows × 3 columns</p>\n",
       "</div>"
      ],
      "text/plain": [
       "       Product_ID  User_ID  counts\n",
       "0       P00000142  1000001       1\n",
       "1       P00000142  1000006       1\n",
       "2       P00000142  1000018       1\n",
       "3       P00000142  1000021       1\n",
       "4       P00000142  1000023       1\n",
       "5       P00000142  1000028       1\n",
       "6       P00000142  1000034       1\n",
       "7       P00000142  1000036       1\n",
       "8       P00000142  1000048       1\n",
       "9       P00000142  1000049       1\n",
       "10      P00000142  1000051       1\n",
       "11      P00000142  1000060       1\n",
       "12      P00000142  1000068       1\n",
       "13      P00000142  1000076       1\n",
       "14      P00000142  1000080       1\n",
       "15      P00000142  1000092       1\n",
       "16      P00000142  1000112       1\n",
       "17      P00000142  1000114       1\n",
       "18      P00000142  1000123       1\n",
       "19      P00000142  1000132       1\n",
       "20      P00000142  1000134       1\n",
       "21      P00000142  1000136       1\n",
       "22      P00000142  1000142       1\n",
       "23      P00000142  1000150       1\n",
       "24      P00000142  1000151       1\n",
       "25      P00000142  1000152       1\n",
       "26      P00000142  1000156       1\n",
       "27      P00000142  1000157       1\n",
       "28      P00000142  1000163       1\n",
       "29      P00000142  1000169       1\n",
       "...           ...      ...     ...\n",
       "537547   P0099842  1005163       1\n",
       "537548   P0099842  1005260       1\n",
       "537549   P0099842  1005273       1\n",
       "537550   P0099842  1005319       1\n",
       "537551   P0099842  1005323       1\n",
       "537552   P0099842  1005344       1\n",
       "537553   P0099842  1005387       1\n",
       "537554   P0099842  1005493       1\n",
       "537555   P0099842  1005500       1\n",
       "537556   P0099842  1005539       1\n",
       "537557   P0099842  1005639       1\n",
       "537558   P0099842  1005704       1\n",
       "537559   P0099842  1005734       1\n",
       "537560   P0099842  1005744       1\n",
       "537561   P0099842  1005832       1\n",
       "537562   P0099842  1005874       1\n",
       "537563   P0099842  1005889       1\n",
       "537564   P0099942  1001150       1\n",
       "537565   P0099942  1001294       1\n",
       "537566   P0099942  1001383       1\n",
       "537567   P0099942  1001883       1\n",
       "537568   P0099942  1002006       1\n",
       "537569   P0099942  1002361       1\n",
       "537570   P0099942  1002665       1\n",
       "537571   P0099942  1003039       1\n",
       "537572   P0099942  1003610       1\n",
       "537573   P0099942  1004083       1\n",
       "537574   P0099942  1004401       1\n",
       "537575   P0099942  1004497       1\n",
       "537576   P0099942  1004579       1\n",
       "\n",
       "[537577 rows x 3 columns]"
      ]
     },
     "execution_count": 22,
     "metadata": {},
     "output_type": "execute_result"
    }
   ],
   "source": [
    "df.groupby(['Product_ID', 'User_ID']).size().reset_index(name='counts')"
   ]
  },
  {
   "cell_type": "markdown",
   "metadata": {},
   "source": [
    "The dataset has one row for each distict User and Product combination."
   ]
  },
  {
   "cell_type": "code",
   "execution_count": 23,
   "metadata": {},
   "outputs": [
    {
     "data": {
      "text/plain": [
       "(array([ 32175.,  57237., 130109., 104444.,  79179.,  24980.,  63928.,\n",
       "         13437.,  29772.,   2316.]),\n",
       " array([  185. ,  2562.6,  4940.2,  7317.8,  9695.4, 12073. , 14450.6,\n",
       "        16828.2, 19205.8, 21583.4, 23961. ]),\n",
       " <a list of 10 Patch objects>)"
      ]
     },
     "execution_count": 23,
     "metadata": {},
     "output_type": "execute_result"
    },
    {
     "data": {
      "image/png": "[encoded data removed]",
      "text/plain": [
       "<Figure size 432x288 with 1 Axes>"
      ]
     },
     "metadata": {
      "needs_background": "light"
     },
     "output_type": "display_data"
    }
   ],
   "source": [
    "plt.hist(df['Purchase'], bins=10)"
   ]
  },
  {
   "cell_type": "markdown",
   "metadata": {},
   "source": [
    "The above graph is more simmilar to Gaussian distribution. But it has peaks near 15000 and 20000. Also it seems to be right skewed. So Gaussian regression model might not be a good fit for this problem."
   ]
  },
  {
   "cell_type": "code",
   "execution_count": 24,
   "metadata": {},
   "outputs": [],
   "source": [
    "from pyspark.ml import Pipeline\n",
    "from pyspark.ml.regression import DecisionTreeRegressor\n",
    "from pyspark.ml.regression import RandomForestRegressor\n",
    "from pyspark.ml.regression import GeneralizedLinearRegression\n",
    "from pyspark.ml.regression import LinearRegression\n",
    "from pyspark.ml.evaluation import RegressionEvaluator\n",
    "from pyspark.ml.feature import VectorIndexer\n",
    "from pyspark.ml.feature import StringIndexer, OneHotEncoder, VectorAssembler\n",
    "from pyspark.ml.feature import RFormula\n",
    "from pyspark.ml.tuning import ParamGridBuilder, TrainValidationSplit, CrossValidator\n",
    "from pyspark.sql import SparkSession \n",
    "from pyspark.sql.functions import lit\n"
   ]
  },
  {
   "cell_type": "code",
   "execution_count": 25,
   "metadata": {},
   "outputs": [],
   "source": [
    "spark = SparkSession.builder\\\n",
    "       .appName(\"donation_data\")\\\n",
    "       .getOrCreate()\n",
    "data = spark.read.format(\"csv\").\\\n",
    "       option(\"header\",True).\\\n",
    "       option(\"inferschema\",True).\\\n",
    "       load(path)\n",
    "test_data = spark.read.format(\"csv\").\\\n",
    "       option(\"header\",True).\\\n",
    "       option(\"inferschema\",True).\\\n",
    "       load(test_path)\n"
   ]
  },
  {
   "cell_type": "markdown",
   "metadata": {},
   "source": [
    "The test_data and train_data are in differnt files. To maintain data integrity both files are merged and passed through the same pipeline. As the test data doesn't contain the Purchase column, we add the Purchase column with value 0. After the data has been indexed and before training the models, the data is again split into train and test dataset based on the Purchase column value."
   ]
  },
  {
   "cell_type": "code",
   "execution_count": 26,
   "metadata": {},
   "outputs": [],
   "source": [
    "test_data = test_data.withColumn('Purchase',lit(0))\n",
    "total_data=data.union(test_data)\n",
    "total_data=total_data.na.fill(0)"
   ]
  },
  {
   "cell_type": "markdown",
   "metadata": {},
   "source": [
    "As mentioned in the data analysis, only Product_Category_2 and Product_Category_3 have null values. As the values for Product_Category_1 are integer, lets fill the null values with 0."
   ]
  },
  {
   "cell_type": "code",
   "execution_count": 27,
   "metadata": {},
   "outputs": [],
   "source": [
    "formula = RFormula(\n",
    "    formula=\"Purchase~.\",\n",
    "    featuresCol=\"features\",\n",
    "    labelCol=\"label\")\n",
    "output = formula.fit(total_data).transform(total_data)\n",
    "featureIndexer =\\\n",
    "    VectorIndexer(inputCol=\"features\", outputCol=\"indexedFeatures\", maxCategories=22).fit(output)\n",
    "\n",
    "train_data=output.filter(\"Purchase !=0\")\n",
    "test_data=output.filter(\"Purchase ==0\")"
   ]
  },
  {
   "cell_type": "markdown",
   "metadata": {},
   "source": [
    "The data analysis indicates that the data has a many features, and all the features seems to have weight in making the prediction. So the trees are used as predication model."
   ]
  },
  {
   "cell_type": "markdown",
   "metadata": {},
   "source": [
    "We have tuned the model with different values for maxDepth and maxBins. We initially gave more number of values for hyper parameters and found that below are the best values. In the below code we have taken out the all values other than the best ones, as the model takes longer to evaluate with multiple values."
   ]
  },
  {
   "cell_type": "code",
   "execution_count": 28,
   "metadata": {},
   "outputs": [
    {
     "name": "stdout",
     "output_type": "stream",
     "text": [
      "+-------+----------+------------------+\n",
      "|User_ID|Product_ID|          Purchase|\n",
      "+-------+----------+------------------+\n",
      "|1000004| P00128942|12965.747758193233|\n",
      "|1000009| P00113442| 9926.387833147026|\n",
      "|1000010| P00288442| 6107.128663246654|\n",
      "|1000010| P00145342|  2640.91341991342|\n",
      "|1000011| P00053842|2340.7246998284736|\n",
      "|1000013| P00350442|11787.049796156087|\n",
      "|1000013| P00155442|13856.125750192357|\n",
      "|1000013|  P0094542|10510.851606674942|\n",
      "|1000015| P00161842|12752.690476190477|\n",
      "|1000022| P00067942| 6107.128663246654|\n",
      "|1000026| P00046742|12965.747758193233|\n",
      "|1000026| P00040042| 5966.838410171972|\n",
      "|1000026| P00196542| 6396.049209207642|\n",
      "|1000026| P00004542| 6396.049209207642|\n",
      "|1000028| P00159542|18153.741414141416|\n",
      "|1000029| P00111542|14947.181818181818|\n",
      "|1000033| P00121042|13831.894409937888|\n",
      "|1000033| P00344442| 6396.049209207642|\n",
      "|1000034| P00265242|            8867.0|\n",
      "|1000035|  P0096642|10510.851606674942|\n",
      "|1000036| P00303042| 5966.838410171972|\n",
      "|1000036| P00059642|12965.747758193233|\n",
      "|1000042| P00030842|13856.125750192357|\n",
      "|1000045| P00346442|12965.747758193233|\n",
      "|1000045| P00357242| 5966.838410171972|\n",
      "+-------+----------+------------------+\n",
      "only showing top 25 rows\n",
      "\n"
     ]
    }
   ],
   "source": [
    "dt_tvs = DecisionTreeRegressor(featuresCol='features')\n",
    "\n",
    "paramGrid = ParamGridBuilder()\\\n",
    "    .addGrid(dt_tvs.maxDepth, [10]) \\\n",
    "    .addGrid(dt_tvs.maxBins, [100])\\\n",
    "    .build()\n",
    "\n",
    "tvs = TrainValidationSplit(estimator=dt_tvs,\\\n",
    "                           estimatorParamMaps=paramGrid,\\\n",
    "                           evaluator=RegressionEvaluator(),\\\n",
    "                           trainRatio=0.8)\n",
    "\n",
    "model_tvs = tvs.fit(train_data)\n",
    "\n",
    "predictions = model_tvs.transform(test_data)\n",
    "dt_tvs_pred=predictions.selectExpr('User_ID','Product_ID','prediction as Purchase')\n",
    "dt_tvs_pred.show(25)\n",
    "dt_tvs_pred.coalesce(1).write.format('csv').save(decision_tree_train_split_result,header = 'true')"
   ]
  },
  {
   "cell_type": "markdown",
   "metadata": {},
   "source": [
    "The RMSE score for Decision tree wih train validation split : 2941.77301982"
   ]
  },
  {
   "cell_type": "markdown",
   "metadata": {},
   "source": [
    "We save the prediction data with 'User_ID','Product_ID','prediction as Purchase' columns in a csv file. And then upload it to analyticsvidhya website (please see the Read.me file) to get the RMSE score."
   ]
  },
  {
   "cell_type": "code",
   "execution_count": 29,
   "metadata": {},
   "outputs": [
    {
     "name": "stdout",
     "output_type": "stream",
     "text": [
      "+-------+----------+------------------+\n",
      "|User_ID|Product_ID|          Purchase|\n",
      "+-------+----------+------------------+\n",
      "|1000004| P00128942|12965.747758193233|\n",
      "|1000009| P00113442| 9926.387833147026|\n",
      "|1000010| P00288442| 6107.128663246654|\n",
      "|1000010| P00145342|  2640.91341991342|\n",
      "|1000011| P00053842|2340.7246998284736|\n",
      "|1000013| P00350442|11787.049796156087|\n",
      "|1000013| P00155442|13856.125750192357|\n",
      "|1000013|  P0094542|10510.851606674942|\n",
      "|1000015| P00161842|12752.690476190477|\n",
      "|1000022| P00067942| 6107.128663246654|\n",
      "|1000026| P00046742|12965.747758193233|\n",
      "|1000026| P00040042| 5966.838410171972|\n",
      "|1000026| P00196542| 6396.049209207642|\n",
      "|1000026| P00004542| 6396.049209207642|\n",
      "|1000028| P00159542|18153.741414141416|\n",
      "|1000029| P00111542|14947.181818181818|\n",
      "|1000033| P00121042|13831.894409937888|\n",
      "|1000033| P00344442| 6396.049209207642|\n",
      "|1000034| P00265242|            8867.0|\n",
      "|1000035|  P0096642|10510.851606674942|\n",
      "|1000036| P00303042| 5966.838410171972|\n",
      "|1000036| P00059642|12965.747758193233|\n",
      "|1000042| P00030842|13856.125750192357|\n",
      "|1000045| P00346442|12965.747758193233|\n",
      "|1000045| P00357242| 5966.838410171972|\n",
      "+-------+----------+------------------+\n",
      "only showing top 25 rows\n",
      "\n"
     ]
    }
   ],
   "source": [
    "dt = DecisionTreeRegressor(featuresCol='features',maxDepth=10,maxBins=100)\n",
    "pipeline = Pipeline(stages=[featureIndexer, dt])\n",
    "crossval = CrossValidator(estimator=pipeline,\n",
    "                          evaluator=RegressionEvaluator(),\n",
    "                          estimatorParamMaps=paramGrid,\n",
    "                          parallelism=3,\n",
    "                          numFolds=4)\n",
    "cvModel = crossval.fit(train_data)\n",
    "\n",
    "predictions = cvModel.transform(test_data)\n",
    "df_pred=predictions.selectExpr('User_ID','Product_ID','prediction as Purchase')\n",
    "df_pred.show(25)\n",
    "df_pred.coalesce(1).write.format('csv').save(decision_tree_result,header = 'true')"
   ]
  },
  {
   "cell_type": "markdown",
   "metadata": {},
   "source": [
    "The RMSE score for Decision tree wih Cross validation split:2941.7730198246"
   ]
  },
  {
   "cell_type": "code",
   "execution_count": 30,
   "metadata": {},
   "outputs": [
    {
     "name": "stdout",
     "output_type": "stream",
     "text": [
      "+-------+----------+------------------+\n",
      "|User_ID|Product_ID|          Purchase|\n",
      "+-------+----------+------------------+\n",
      "|1000004| P00128942| 13359.84661871781|\n",
      "|1000009| P00113442|10785.581837760265|\n",
      "|1000010| P00288442| 6475.022790441633|\n",
      "|1000010| P00145342| 3480.553198133098|\n",
      "|1000011| P00053842|3513.5563234695314|\n",
      "|1000013| P00350442|11470.044347208102|\n",
      "|1000013| P00155442|13334.391861622571|\n",
      "|1000013|  P0094542|10774.628649314636|\n",
      "|1000015| P00161842|15244.477200973775|\n",
      "|1000022| P00067942| 6475.022790441633|\n",
      "|1000026| P00046742|13247.568771784263|\n",
      "|1000026| P00040042| 6475.022790441633|\n",
      "|1000026| P00196542|6644.2409457734175|\n",
      "|1000026| P00004542| 6622.973360026108|\n",
      "|1000028| P00159542|15514.500854352527|\n",
      "|1000029| P00111542| 12925.31853011264|\n",
      "|1000033| P00121042|13910.562470915833|\n",
      "|1000033| P00344442|6644.2409457734175|\n",
      "|1000034| P00265242| 6622.973360026108|\n",
      "|1000035|  P0096642|11073.622735251676|\n",
      "|1000036| P00303042| 6475.022790441633|\n",
      "|1000036| P00059642|13839.655121217254|\n",
      "|1000042| P00030842|13322.837001773518|\n",
      "|1000045| P00346442| 13517.27278307392|\n",
      "|1000045| P00357242| 6475.022790441633|\n",
      "+-------+----------+------------------+\n",
      "only showing top 25 rows\n",
      "\n"
     ]
    }
   ],
   "source": [
    "rf = RandomForestRegressor(featuresCol=\"indexedFeatures\", numTrees=20)\n",
    "pipeline_rf = Pipeline(stages=[featureIndexer, rf])\n",
    "model_rf = pipeline_rf.fit(train_data)\n",
    "predictions_rf = model_rf.transform(test_data)\n",
    "df_pred_rf=predictions_rf.selectExpr('User_ID','Product_ID','prediction as Purchase')\n",
    "\n",
    "predictions_rf = model_rf.transform(test_data)\n",
    "df_pred_rf=predictions_rf.selectExpr('User_ID','Product_ID','prediction as Purchase')\n",
    "df_pred_rf.show(25)\n",
    "df_pred_rf.coalesce(1).write.format('csv').save(random_forest_result,header = 'true')\n"
   ]
  },
  {
   "cell_type": "markdown",
   "metadata": {},
   "source": [
    "The RMSE score for Random forest:3149.5798556."
   ]
  },
  {
   "cell_type": "markdown",
   "metadata": {},
   "source": [
    "We also trained DecisionTreeRegressor without the 'Stay in City column' with maxBins = 100 and maxDepth = 10. It gave the best regression score of 2939.5179. \n",
    "\n",
    "We tried Logistic regression and Linear regression which took too much memory. Also there are many features so we assume that the tress regressors would be a better fit for this problem. \n",
    "\n",
    "We have used decision trees and random forest regressions. We used Cross validation and Train Split with paramater grid for maxDepth and maxBin parameters to tune the decision tree. \n",
    "\n",
    "The decision tree with maxDepth = 10 and maxBin = 100 gives the best RMSE score 2940. \n",
    "\n",
    "We have also tried to fit the tree with lesser features which didn't give significantly better result.\n",
    "\n",
    "For Random forest we tried the parameter numTrees = 10 and numTrees = 20. The RMSE score improved by very minimal points from 3151 to 3149. \n",
    "\n",
    "In conclusion the Decision tree model gave the best result and best improvement from 3282 to 2940, which is almost 10% improvement in the result."
   ]
  }
 ],
 "metadata": {
  "kernelspec": {
   "display_name": "Python 3",
   "language": "python",
   "name": "python3"
  },
  "language_info": {
   "codemirror_mode": {
    "name": "ipython",
    "version": 3
   },
   "file_extension": ".py",
   "mimetype": "text/x-python",
   "name": "python",
   "nbconvert_exporter": "python",
   "pygments_lexer": "ipython3",
   "version": "3.7.1"
  }
 },
 "nbformat": 4,
 "nbformat_minor": 2
}
